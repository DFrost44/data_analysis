{
  "cells": [
    {
      "cell_type": "code",
      "execution_count": 8,
      "metadata": {
        "id": "vncCRA6M3NxV"
      },
      "outputs": [],
      "source": [
        "import numpy as np\n",
        "import pandas as pd\n",
        "from sklearn.preprocessing import LabelEncoder, normalize,StandardScaler\n",
        "import matplotlib.pyplot as plt\n",
        "\n",
        "from sklearn.model_selection import train_test_split"
      ]
    },
    {
      "cell_type": "code",
      "execution_count": null,
      "metadata": {
        "colab": {
          "base_uri": "https://localhost:8080/"
        },
        "id": "BcGOz3FU9bg7",
        "outputId": "a20dbeec-5870-4a0f-8b63-79d0d4c9929d"
      },
      "outputs": [
        {
          "name": "stdout",
          "output_type": "stream",
          "text": [
            "original shapes: (2216, 10) (2216,)\n",
            "train shapes: (1662, 10) (1662,)\n"
          ]
        }
      ],
      "source": [
        "#labels = 'Year_Birth',\t'Education',\t'Marital_Status',\tIncome\tKidhome\tTeenhome\tDt_Customer\tRecency\tMntWines\t'\n",
        "feature_names = ['Year_Birth', 'Education', 'Marital_Status', 'Income', 'Teenhome', 'Recency', 'MntWines', 'MntFruits', 'MntMeatProducts', 'MntFishProducts']\n",
        "target = 'Kidhome'\n",
        "\n",
        "df = pd.read_csv('./marketing_campaign.csv',delimiter='\\t')[feature_names + [target]]\n",
        "le_all = {}\n",
        "for i in ['Education', 'Marital_Status']:\n",
        "    le_all[i] = LabelEncoder()\n",
        "    le_all[i].fit(df[i].unique())\n",
        "    df[i] = le_all[i].transform(df[i])\n",
        "\n",
        "df = df.dropna()\n",
        "\n",
        "X_ = df.drop([target],axis=1)\n",
        "Y_ = df[target].astype(int)\n",
        "\n",
        "\n",
        "print('original shapes:', X_.shape, Y_.shape)\n",
        "\n",
        "# normalize\n",
        "\n",
        "for i in ['Year_Birth', 'Income', 'Recency', 'MntWines', 'MntFruits', 'MntMeatProducts', 'MntFishProducts']:\n",
        "    X_[i] = normalize([X_[i]]).reshape(X_[i].shape)\n",
        "\n",
        "X_train, X_test, y_train, y_test = train_test_split(X_, Y_, test_size=0.25)\n",
        "\n",
        "print('train shapes:', X_train.shape, y_train.shape)\n",
        "\n",
        "scaler = StandardScaler()\n",
        "scaler.fit(X_train)\n",
        "X_train = scaler.transform(X_train) \n",
        "X_test = scaler.transform(X_test) \n"
      ]
    },
    {
      "cell_type": "code",
      "execution_count": 2,
      "metadata": {
        "id": "8M0F48c89jGU"
      },
      "outputs": [],
      "source": [
        "import tensorflow as tf\n",
        "from tensorflow import keras\n",
        "from tensorflow.keras import layers"
      ]
    },
    {
      "cell_type": "code",
      "execution_count": null,
      "metadata": {
        "colab": {
          "base_uri": "https://localhost:8080/"
        },
        "id": "bl1QZenl7V6N",
        "outputId": "9cdd2464-7d0e-49e2-b02f-eeaa047d7cd2"
      },
      "outputs": [
        {
          "name": "stdout",
          "output_type": "stream",
          "text": [
            "Model: \"sequential_6\"\n",
            "_________________________________________________________________\n",
            " Layer (type)                Output Shape              Param #   \n",
            "=================================================================\n",
            " dense_22 (Dense)            (None, 200)               2200      \n",
            "                                                                 \n",
            " dense_23 (Dense)            (None, 900)               180900    \n",
            "                                                                 \n",
            " dense_24 (Dense)            (None, 900)               810900    \n",
            "                                                                 \n",
            " dense_25 (Dense)            (None, 900)               810900    \n",
            "                                                                 \n",
            " dense_26 (Dense)            (None, 1)                 901       \n",
            "                                                                 \n",
            "=================================================================\n",
            "Total params: 1,805,801\n",
            "Trainable params: 1,805,801\n",
            "Non-trainable params: 0\n",
            "_________________________________________________________________\n"
          ]
        }
      ],
      "source": [
        "model =  keras.Sequential()\n",
        "model.add(layers.Dense(200, activation='relu', input_shape=(10,)))\n",
        "model.add(layers.Dense(900, activation='relu'))\n",
        "model.add(layers.Dense(900, activation='relu'))\n",
        "model.add(layers.Dense(900, activation='tanh'))\n",
        "model.add(layers.Dense(1, activation='softmax'))\n",
        "\n",
        "model.summary()\n",
        "model.compile(loss='categorical_crossentropy',   optimizer='adam', metrics=['accuracy'])\n"
      ]
    },
    {
      "cell_type": "code",
      "execution_count": null,
      "metadata": {
        "colab": {
          "base_uri": "https://localhost:8080/"
        },
        "id": "OHYBipMc-1ia",
        "outputId": "6d34de8e-a29c-445e-8c10-09fe88bb1a27"
      },
      "outputs": [
        {
          "name": "stdout",
          "output_type": "stream",
          "text": [
            "Epoch 1/10\n",
            "21/21 - 1s - loss: 0.0000e+00 - accuracy: 0.3875 - val_loss: 0.0000e+00 - val_accuracy: 0.4384 - 1s/epoch - 65ms/step\n",
            "Epoch 2/10\n",
            "21/21 - 1s - loss: 0.0000e+00 - accuracy: 0.3875 - val_loss: 0.0000e+00 - val_accuracy: 0.4384 - 633ms/epoch - 30ms/step\n",
            "Epoch 3/10\n",
            "21/21 - 1s - loss: 0.0000e+00 - accuracy: 0.3875 - val_loss: 0.0000e+00 - val_accuracy: 0.4384 - 634ms/epoch - 30ms/step\n",
            "Epoch 4/10\n",
            "21/21 - 1s - loss: 0.0000e+00 - accuracy: 0.3875 - val_loss: 0.0000e+00 - val_accuracy: 0.4384 - 612ms/epoch - 29ms/step\n",
            "Epoch 5/10\n",
            "21/21 - 1s - loss: 0.0000e+00 - accuracy: 0.3875 - val_loss: 0.0000e+00 - val_accuracy: 0.4384 - 843ms/epoch - 40ms/step\n",
            "Epoch 6/10\n",
            "21/21 - 1s - loss: 0.0000e+00 - accuracy: 0.3875 - val_loss: 0.0000e+00 - val_accuracy: 0.4384 - 761ms/epoch - 36ms/step\n",
            "Epoch 7/10\n",
            "21/21 - 1s - loss: 0.0000e+00 - accuracy: 0.3875 - val_loss: 0.0000e+00 - val_accuracy: 0.4384 - 591ms/epoch - 28ms/step\n",
            "Epoch 8/10\n",
            "21/21 - 1s - loss: 0.0000e+00 - accuracy: 0.3875 - val_loss: 0.0000e+00 - val_accuracy: 0.4384 - 640ms/epoch - 30ms/step\n",
            "Epoch 9/10\n",
            "21/21 - 1s - loss: 0.0000e+00 - accuracy: 0.3875 - val_loss: 0.0000e+00 - val_accuracy: 0.4384 - 646ms/epoch - 31ms/step\n",
            "Epoch 10/10\n",
            "21/21 - 1s - loss: 0.0000e+00 - accuracy: 0.3875 - val_loss: 0.0000e+00 - val_accuracy: 0.4384 - 619ms/epoch - 29ms/step\n"
          ]
        }
      ],
      "source": [
        "history = model.fit(X_train,\n",
        "                    y_train,\n",
        "                    epochs=10,  \n",
        "                    batch_size=64,                                   \n",
        "                    validation_split=0.2,\n",
        "                    verbose = 2)"
      ]
    },
    {
      "cell_type": "code",
      "execution_count": null,
      "metadata": {
        "colab": {
          "base_uri": "https://localhost:8080/"
        },
        "id": "bT7Dh3b6_pls",
        "outputId": "bb91f316-0770-42f3-846d-6658001d3b41"
      },
      "outputs": [
        {
          "data": {
            "text/plain": [
              "dict_keys(['loss', 'accuracy', 'val_loss', 'val_accuracy'])"
            ]
          },
          "execution_count": 19,
          "metadata": {},
          "output_type": "execute_result"
        }
      ],
      "source": [
        "history_dict = history.history\n",
        "history_dict.keys()"
      ]
    },
    {
      "cell_type": "code",
      "execution_count": null,
      "metadata": {
        "colab": {
          "base_uri": "https://localhost:8080/",
          "height": 295
        },
        "id": "vRRCtT52BEc1",
        "outputId": "5edec871-65b2-41de-d6e2-dba999a472d6"
      },
      "outputs": [
        {
          "data": {
            "image/png": "[encoded data removed]",
            "text/plain": [
              "<Figure size 432x288 with 1 Axes>"
            ]
          },
          "metadata": {},
          "output_type": "display_data"
        }
      ],
      "source": [
        "history_dict = history.history\n",
        "loss_values = history_dict[\"loss\"]\n",
        "val_loss_values = history_dict[\"val_loss\"]\n",
        "epochs = range(1, len(loss_values) + 1)\n",
        "plt.plot(epochs, loss_values, \"bo\", label=\"Training loss\")\n",
        "plt.plot(epochs, val_loss_values, \"b\", label=\"Validation loss\")\n",
        "plt.title(\"Training and validation loss\")\n",
        "plt.xlabel(\"Epochs\")\n",
        "plt.ylabel(\"Loss\")\n",
        "plt.legend()\n",
        "plt.show()"
      ]
    },
    {
      "cell_type": "code",
      "execution_count": null,
      "metadata": {
        "colab": {
          "base_uri": "https://localhost:8080/"
        },
        "id": "YfGM9SP9BGI8",
        "outputId": "359c735b-a7ba-48bd-c375-ea69b130e561"
      },
      "outputs": [
        {
          "name": "stdout",
          "output_type": "stream",
          "text": [
            "Test score: 0.0\n",
            "Test accuracy: 0.4079422354698181\n"
          ]
        }
      ],
      "source": [
        "score = model.evaluate(X_test, y_test, verbose=0) \n",
        "print('Test score:', score[0]) \n",
        "print('Test accuracy:', score[1])"
      ]
    },
    {
      "cell_type": "markdown",
      "metadata": {
        "id": "0q8G__HHBStH"
      },
      "source": [
        "Схоже подібний тип класифікації вдається гірше нейронній мережі, ніж більш простим алгоритмам."
      ]
    },
    {
      "cell_type": "markdown",
      "metadata": {
        "id": "n_EUVHDLE_6H"
      },
      "source": [
        "# CNN"
      ]
    },
    {
      "cell_type": "code",
      "execution_count": 27,
      "metadata": {
        "colab": {
          "base_uri": "https://localhost:8080/"
        },
        "id": "6NSbrYPfFDJN",
        "outputId": "fa0491e6-55e0-40ab-80bf-090fa596108d"
      },
      "outputs": [
        {
          "output_type": "stream",
          "name": "stdout",
          "text": [
            "Found 14034 files belonging to 6 classes.\n",
            "Using 11228 files for training.\n",
            "Found 3000 files belonging to 6 classes.\n",
            "Using 600 files for validation.\n"
          ]
        }
      ],
      "source": [
        "from tensorflow.keras.preprocessing.image import ImageDataGenerator\n",
        "\n",
        "rescaled = ImageDataGenerator(1/255)\n",
        "train_fed = tf.keras.utils.image_dataset_from_directory('seg_train/seg_train', image_size = (128,128), batch_size=32, label_mode = 'categorical', subset='training', validation_split = 0.2, seed=42)\n",
        "test_fed = tf.keras.utils.image_dataset_from_directory('seg_test/seg_test', image_size = (128,128), batch_size=32, label_mode = 'categorical', subset='validation', validation_split = 0.2, seed=42)\n"
      ]
    },
    {
      "cell_type": "code",
      "source": [
        "model = tf.keras.models.Sequential()\n",
        "\n",
        "model.add(layers.Conv2D(16, (3,3), activation='relu', input_shape=(128,128,3)),)\n",
        "model.add(layers.Conv2D(16, (3,3), activation='relu'),)\n",
        "model.add(layers.Conv2D(16, (3,3), activation='relu'),)\n",
        "model.add(layers.MaxPool2D(2,2))\n",
        "model.add(layers.Conv2D(filters=32, kernel_size=(3, 3), padding=\"same\"))\n",
        "model.add(layers.LeakyReLU(alpha=0.02))\n",
        "model.add(layers.MaxPooling2D(pool_size=(2, 2), padding='same'))\n",
        "\n",
        "model.add(layers.Conv2D(filters=64, kernel_size=(3, 3), padding=\"same\"))\n",
        "model.add(layers.LeakyReLU(alpha=0.02))\n",
        "model.add(layers.MaxPooling2D(pool_size=(2, 2), padding='same'))\n",
        "\n",
        "model.add(layers.Flatten(),)\n",
        "model.add(layers.Dense(128, activation='relu'),)\n",
        "model.add(layers.Dense(6, activation='softmax')     )\n",
        "\n",
        "\n",
        "model.compile(optimizer='adam', loss='categorical_crossentropy', metrics=['accuracy'])\n",
        "\n",
        "model.summary()\n"
      ],
      "metadata": {
        "colab": {
          "base_uri": "https://localhost:8080/"
        },
        "id": "_TDsFeE-L4zZ",
        "outputId": "150ec3b7-2528-43be-aaba-3a24d67064bf"
      },
      "execution_count": 36,
      "outputs": [
        {
          "output_type": "stream",
          "name": "stdout",
          "text": [
            "Model: \"sequential_9\"\n",
            "_________________________________________________________________\n",
            " Layer (type)                Output Shape              Param #   \n",
            "=================================================================\n",
            " conv2d_9 (Conv2D)           (None, 126, 126, 16)      448       \n",
            "                                                                 \n",
            " conv2d_10 (Conv2D)          (None, 124, 124, 16)      2320      \n",
            "                                                                 \n",
            " max_pooling2d_4 (MaxPooling  (None, 62, 62, 16)       0         \n",
            " 2D)                                                             \n",
            "                                                                 \n",
            " conv2d_11 (Conv2D)          (None, 62, 62, 64)        9280      \n",
            "                                                                 \n",
            " leaky_re_lu_2 (LeakyReLU)   (None, 62, 62, 64)        0         \n",
            "                                                                 \n",
            " max_pooling2d_5 (MaxPooling  (None, 31, 31, 64)       0         \n",
            " 2D)                                                             \n",
            "                                                                 \n",
            " flatten_1 (Flatten)         (None, 61504)             0         \n",
            "                                                                 \n",
            " dense_29 (Dense)            (None, 128)               7872640   \n",
            "                                                                 \n",
            " dense_30 (Dense)            (None, 6)                 774       \n",
            "                                                                 \n",
            "=================================================================\n",
            "Total params: 7,885,462\n",
            "Trainable params: 7,885,462\n",
            "Non-trainable params: 0\n",
            "_________________________________________________________________\n"
          ]
        }
      ]
    },
    {
      "cell_type": "code",
      "source": [
        "hist = model.fit(train_fed, epochs=10, validation_data=test_fed, callbacks = [tf.keras.callbacks.EarlyStopping(patience=5)], verbose=1)"
      ],
      "metadata": {
        "id": "zMhrJ1OcRcNk"
      },
      "execution_count": null,
      "outputs": []
    },
    {
      "cell_type": "code",
      "source": [
        "acc = model.evaluate(test_fed, steps=len(test_fed), verbose=1)\n",
        "print('%.2f'%(acc[1]*100))"
      ],
      "metadata": {
        "id": "QI5p_gtYXz8c"
      },
      "execution_count": null,
      "outputs": []
    },
    {
      "cell_type": "markdown",
      "source": [
        "# RNN"
      ],
      "metadata": {
        "id": "cN6qNnGzXpVS"
      }
    },
    {
      "cell_type": "code",
      "source": [
        "from keras.preprocessing.text import Tokenizer\n",
        "from keras_preprocessing.sequence import pad_sequences"
      ],
      "metadata": {
        "id": "pwQL_AriU-P1"
      },
      "execution_count": 3,
      "outputs": []
    },
    {
      "cell_type": "code",
      "source": [
        "f_news = pd.read_csv('Fake.csv')\n",
        "t_news = pd.read_csv('True.csv')\n",
        "\n",
        "f_news['target']=0\n",
        "t_news['target']=1\n",
        "\n",
        "data = pd.concat([f_news,t_news])"
      ],
      "metadata": {
        "id": "KTSQ1Rh0Z55N"
      },
      "execution_count": 4,
      "outputs": []
    },
    {
      "cell_type": "code",
      "source": [
        "data = data.drop(columns=['title','subject','date'])\n",
        "\n",
        "data['text'] = data['text'].apply(lambda s: s.lower())\n",
        "data.head()"
      ],
      "metadata": {
        "colab": {
          "base_uri": "https://localhost:8080/",
          "height": 206
        },
        "id": "da6V9gcraM2U",
        "outputId": "e9c4a3e1-7b75-43f3-e012-d1a46c3d8438"
      },
      "execution_count": 5,
      "outputs": [
        {
          "output_type": "execute_result",
          "data": {
            "text/plain": [
              "                                                text  target\n",
              "0  donald trump just couldn t wish all americans ...       0\n",
              "1  house intelligence committee chairman devin nu...       0\n",
              "2  on friday, it was revealed that former milwauk...       0\n",
              "3  on christmas day, donald trump announced that ...       0\n",
              "4  pope francis used his annual christmas day mes...       0"
            ],
            "text/html": [
              "\n",
              "  <div id=\"df-e9f558a2-346c-4d9c-beb5-ffdc80efa3b1\">\n",
              "    <div class=\"colab-df-container\">\n",
              "      <div>\n",
              "<style scoped>\n",
              "    .dataframe tbody tr th:only-of-type {\n",
              "        vertical-align: middle;\n",
              "    }\n",
              "\n",
              "    .dataframe tbody tr th {\n",
              "        vertical-align: top;\n",
              "    }\n",
              "\n",
              "    .dataframe thead th {\n",
              "        text-align: right;\n",
              "    }\n",
              "</style>\n",
              "<table border=\"1\" class=\"dataframe\">\n",
              "  <thead>\n",
              "    <tr style=\"text-align: right;\">\n",
              "      <th></th>\n",
              "      <th>text</th>\n",
              "      <th>target</th>\n",
              "    </tr>\n",
              "  </thead>\n",
              "  <tbody>\n",
              "    <tr>\n",
              "      <th>0</th>\n",
              "      <td>donald trump just couldn t wish all americans ...</td>\n",
              "      <td>0</td>\n",
              "    </tr>\n",
              "    <tr>\n",
              "      <th>1</th>\n",
              "      <td>house intelligence committee chairman devin nu...</td>\n",
              "      <td>0</td>\n",
              "    </tr>\n",
              "    <tr>\n",
              "      <th>2</th>\n",
              "      <td>on friday, it was revealed that former milwauk...</td>\n",
              "      <td>0</td>\n",
              "    </tr>\n",
              "    <tr>\n",
              "      <th>3</th>\n",
              "      <td>on christmas day, donald trump announced that ...</td>\n",
              "      <td>0</td>\n",
              "    </tr>\n",
              "    <tr>\n",
              "      <th>4</th>\n",
              "      <td>pope francis used his annual christmas day mes...</td>\n",
              "      <td>0</td>\n",
              "    </tr>\n",
              "  </tbody>\n",
              "</table>\n",
              "</div>\n",
              "      <button class=\"colab-df-convert\" onclick=\"convertToInteractive('df-e9f558a2-346c-4d9c-beb5-ffdc80efa3b1')\"\n",
              "              title=\"Convert this dataframe to an interactive table.\"\n",
              "              style=\"display:none;\">\n",
              "        \n",
              "  <svg xmlns=\"http://www.w3.org/2000/svg\" height=\"24px\"viewBox=\"0 0 24 24\"\n",
              "       width=\"24px\">\n",
              "    <path d=\"M0 0h24v24H0V0z\" fill=\"none\"/>\n",
              "    <path d=\"M18.56 5.44l.94 2.06.94-2.06 2.06-.94-2.06-.94-.94-2.06-.94 2.06-2.06.94zm-11 1L8.5 8.5l.94-2.06 2.06-.94-2.06-.94L8.5 2.5l-.94 2.06-2.06.94zm10 10l.94 2.06.94-2.06 2.06-.94-2.06-.94-.94-2.06-.94 2.06-2.06.94z\"/><path d=\"M17.41 7.96l-1.37-1.37c-.4-.4-.92-.59-1.43-.59-.52 0-1.04.2-1.43.59L10.3 9.45l-7.72 7.72c-.78.78-.78 2.05 0 2.83L4 21.41c.39.39.9.59 1.41.59.51 0 1.02-.2 1.41-.59l7.78-7.78 2.81-2.81c.8-.78.8-2.07 0-2.86zM5.41 20L4 18.59l7.72-7.72 1.47 1.35L5.41 20z\"/>\n",
              "  </svg>\n",
              "      </button>\n",
              "      \n",
              "  <style>\n",
              "    .colab-df-container {\n",
              "      display:flex;\n",
              "      flex-wrap:wrap;\n",
              "      gap: 12px;\n",
              "    }\n",
              "\n",
              "    .colab-df-convert {\n",
              "      background-color: #E8F0FE;\n",
              "      border: none;\n",
              "      border-radius: 50%;\n",
              "      cursor: pointer;\n",
              "      display: none;\n",
              "      fill: #1967D2;\n",
              "      height: 32px;\n",
              "      padding: 0 0 0 0;\n",
              "      width: 32px;\n",
              "    }\n",
              "\n",
              "    .colab-df-convert:hover {\n",
              "      background-color: #E2EBFA;\n",
              "      box-shadow: 0px 1px 2px rgba(60, 64, 67, 0.3), 0px 1px 3px 1px rgba(60, 64, 67, 0.15);\n",
              "      fill: #174EA6;\n",
              "    }\n",
              "\n",
              "    [theme=dark] .colab-df-convert {\n",
              "      background-color: #3B4455;\n",
              "      fill: #D2E3FC;\n",
              "    }\n",
              "\n",
              "    [theme=dark] .colab-df-convert:hover {\n",
              "      background-color: #434B5C;\n",
              "      box-shadow: 0px 1px 3px 1px rgba(0, 0, 0, 0.15);\n",
              "      filter: drop-shadow(0px 1px 2px rgba(0, 0, 0, 0.3));\n",
              "      fill: #FFFFFF;\n",
              "    }\n",
              "  </style>\n",
              "\n",
              "      <script>\n",
              "        const buttonEl =\n",
              "          document.querySelector('#df-e9f558a2-346c-4d9c-beb5-ffdc80efa3b1 button.colab-df-convert');\n",
              "        buttonEl.style.display =\n",
              "          google.colab.kernel.accessAllowed ? 'block' : 'none';\n",
              "\n",
              "        async function convertToInteractive(key) {\n",
              "          const element = document.querySelector('#df-e9f558a2-346c-4d9c-beb5-ffdc80efa3b1');\n",
              "          const dataTable =\n",
              "            await google.colab.kernel.invokeFunction('convertToInteractive',\n",
              "                                                     [key], {});\n",
              "          if (!dataTable) return;\n",
              "\n",
              "          const docLinkHtml = 'Like what you see? Visit the ' +\n",
              "            '<a target=\"_blank\" href=https://colab.research.google.com/notebooks/data_table.ipynb>data table notebook</a>'\n",
              "            + ' to learn more about interactive tables.';\n",
              "          element.innerHTML = '';\n",
              "          dataTable['output_type'] = 'display_data';\n",
              "          await google.colab.output.renderOutput(dataTable, element);\n",
              "          const docLink = document.createElement('div');\n",
              "          docLink.innerHTML = docLinkHtml;\n",
              "          element.appendChild(docLink);\n",
              "        }\n",
              "      </script>\n",
              "    </div>\n",
              "  </div>\n",
              "  "
            ]
          },
          "metadata": {},
          "execution_count": 5
        }
      ]
    },
    {
      "cell_type": "code",
      "source": [
        "x = data['text']\n",
        "\n",
        "y = data['target']"
      ],
      "metadata": {
        "id": "bY39JG3fa0ot"
      },
      "execution_count": 6,
      "outputs": []
    },
    {
      "cell_type": "code",
      "source": [
        "token = Tokenizer(num_words=10000,oov_token=\"<OOV>\")\n",
        "token.fit_on_texts(x)\n",
        "word_index = token.word_index\n",
        "train_seq = token.texts_to_sequences(x)\n",
        "train_padd = pad_sequences(train_seq,padding=\"post\",truncating=\"post\",maxlen=50)\n"
      ],
      "metadata": {
        "id": "qJKmRLYLb8Us"
      },
      "execution_count": null,
      "outputs": []
    },
    {
      "cell_type": "code",
      "source": [
        "\n",
        "x_train,x_test,y_train,y_test = train_test_split(train_padd,y , test_size=0.5,train_size=0.5)"
      ],
      "metadata": {
        "id": "9eGiUf7ddr7e"
      },
      "execution_count": 10,
      "outputs": []
    },
    {
      "cell_type": "code",
      "source": [
        "model = keras.Sequential()\n",
        "model.add(layers.Embedding(10000, 128))\n",
        "model.add(layers.LSTM(128))\n",
        "model.add(layers.Dense(1, activation='sigmoid'))\n",
        "\n",
        "model.compile(optimizer=\"adam\", loss=\"binary_crossentropy\", metrics=[\"accuracy\"])"
      ],
      "metadata": {
        "id": "l75lXpJib-fl"
      },
      "execution_count": 11,
      "outputs": []
    },
    {
      "cell_type": "code",
      "source": [
        "history = model.fit(x_train, y_train, epochs=5, validation_data=(x_test,y_test), verbose = 1)"
      ],
      "metadata": {
        "colab": {
          "base_uri": "https://localhost:8080/"
        },
        "id": "KQVbbp_Wchcp",
        "outputId": "84c74f73-b00a-43c2-b017-fa5c43d4cfd1"
      },
      "execution_count": 12,
      "outputs": [
        {
          "output_type": "stream",
          "name": "stdout",
          "text": [
            "Epoch 1/5\n",
            "702/702 [==============================] - 102s 141ms/step - loss: 0.0891 - accuracy: 0.9731 - val_loss: 0.0858 - val_accuracy: 0.9812\n",
            "Epoch 2/5\n",
            "702/702 [==============================] - 95s 135ms/step - loss: 0.0637 - accuracy: 0.9865 - val_loss: 0.0595 - val_accuracy: 0.9898\n",
            "Epoch 3/5\n",
            "702/702 [==============================] - 96s 136ms/step - loss: 0.0968 - accuracy: 0.9608 - val_loss: 0.6334 - val_accuracy: 0.6702\n",
            "Epoch 4/5\n",
            "702/702 [==============================] - 94s 134ms/step - loss: 0.1469 - accuracy: 0.9484 - val_loss: 0.0659 - val_accuracy: 0.9820\n",
            "Epoch 5/5\n",
            "702/702 [==============================] - 96s 136ms/step - loss: 0.0740 - accuracy: 0.9818 - val_loss: 0.0487 - val_accuracy: 0.9863\n"
          ]
        }
      ]
    },
    {
      "cell_type": "code",
      "source": [
        "score = model.evaluate(x_test, y_test, verbose=0) \n",
        "print('Test score:', score[0]) \n",
        "print('Test accuracy:', score[1])"
      ],
      "metadata": {
        "colab": {
          "base_uri": "https://localhost:8080/"
        },
        "id": "KPUMh6v_ctqc",
        "outputId": "32280595-8f89-4892-8e99-68ff8e6e47e5"
      },
      "execution_count": 14,
      "outputs": [
        {
          "output_type": "stream",
          "name": "stdout",
          "text": [
            "Test score: 0.04874517396092415\n",
            "Test accuracy: 0.9863245487213135\n"
          ]
        }
      ]
    }
  ],
  "metadata": {
    "colab": {
      "provenance": []
    },
    "kernelspec": {
      "display_name": "Python 3",
      "name": "python3"
    },
    "language_info": {
      "name": "python"
    }
  },
  "nbformat": 4,
  "nbformat_minor": 0
}